{
 "cells": [
  {
   "cell_type": "code",
   "execution_count": null,
   "metadata": {},
   "outputs": [],
   "source": [
    "s = input(\"Enter a String you want to search on the screen - \")\n",
    "s=s.lower()\n",
    "img = auto.screenshot()\n",
    "d = pytesseract.image_to_data(img, output_type=Output.DICT)\n",
    "d['text'] = [x.lower() for x in d['text']]\n",
    "\n",
    "if (s in d['text']):\n",
    "    i = d['text'].index(s)\n",
    "    x=d['left'][i] + (d['width'][i]/2)\n",
    "    y=d['top'][i] + (d['height'][i]/2)\n",
    "    auto.moveTo(x,y)\n",
    "else :\n",
    "    print(\"String not present\")"
   ]
  }
 ],
 "metadata": {
  "kernelspec": {
   "display_name": "Python 3",
   "language": "python",
   "name": "python3"
  },
  "language_info": {
   "codemirror_mode": {
    "name": "ipython",
    "version": 3
   },
   "file_extension": ".py",
   "mimetype": "text/x-python",
   "name": "python",
   "nbconvert_exporter": "python",
   "pygments_lexer": "ipython3",
   "version": "3.6.7"
  }
 },
 "nbformat": 4,
 "nbformat_minor": 2
}
